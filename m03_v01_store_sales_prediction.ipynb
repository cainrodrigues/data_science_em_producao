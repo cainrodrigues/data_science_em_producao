{
 "cells": [
  {
   "cell_type": "markdown",
   "id": "spread-architecture",
   "metadata": {},
   "source": [
    "# 0.0. Imports"
   ]
  },
  {
   "cell_type": "code",
   "execution_count": 2,
   "id": "exclusive-cancer",
   "metadata": {
    "ExecuteTime": {
     "end_time": "2021-03-29T00:12:48.639353Z",
     "start_time": "2021-03-29T00:12:45.918079Z"
    }
   },
   "outputs": [],
   "source": [
    "import pandas as pd\n",
    "import inflection\n",
    "import math\n",
    "import numpy as np\n",
    "import seaborn as sns\n",
    "\n",
    "from matplotlib import pyplot as plt\n",
    "\n",
    "from IPython.core.display import HTML\n",
    "from IPython.display import Image"
   ]
  },
  {
   "cell_type": "markdown",
   "id": "copyrighted-connecticut",
   "metadata": {},
   "source": [
    "## 0.1. Helper Functions"
   ]
  },
  {
   "cell_type": "code",
   "execution_count": 3,
   "id": "august-university",
   "metadata": {
    "ExecuteTime": {
     "end_time": "2021-03-29T00:12:48.702329Z",
     "start_time": "2021-03-29T00:12:48.641352Z"
    }
   },
   "outputs": [
    {
     "name": "stdout",
     "output_type": "stream",
     "text": [
      "Populating the interactive namespace from numpy and matplotlib\n"
     ]
    },
    {
     "data": {
      "text/html": [
       "<style>.container { width:100% !important; }</style>"
      ],
      "text/plain": [
       "<IPython.core.display.HTML object>"
      ]
     },
     "metadata": {},
     "output_type": "display_data"
    }
   ],
   "source": [
    "def jupyter_settings():\n",
    "     %matplotlib inline\n",
    "     %pylab inline\n",
    "     plt.style.use( 'bmh' )\n",
    "     plt.rcParams['figure.figsize'] = [25, 12]\n",
    "     plt.rcParams['font.size'] = 24\n",
    "     display( HTML( '<style>.container { width:100% !important; }</style>') )\n",
    "     pd.options.display.max_columns = None\n",
    "     pd.options.display.max_rows = None\n",
    "     pd.set_option( 'display.expand_frame_repr', False )\n",
    "     sns.set()\n",
    " \n",
    "jupyter_settings()"
   ]
  },
  {
   "cell_type": "markdown",
   "id": "proof-surgery",
   "metadata": {
    "hide_input": false
   },
   "source": [
    "## 0.2. Loading Data"
   ]
  },
  {
   "cell_type": "code",
   "execution_count": 4,
   "id": "municipal-emperor",
   "metadata": {
    "ExecuteTime": {
     "end_time": "2021-03-29T00:12:50.852084Z",
     "start_time": "2021-03-29T00:12:48.706314Z"
    }
   },
   "outputs": [],
   "source": [
    "df_sales_raw = pd.read_csv('datasets/train.csv', low_memory=False)\n",
    "df_store_raw = pd.read_csv('datasets/store.csv', low_memory=False)\n",
    "\n",
    "#merge\n",
    "df_raw = pd.merge(df_sales_raw, df_store_raw, how = 'left', on = 'Store' )"
   ]
  },
  {
   "cell_type": "code",
   "execution_count": 5,
   "id": "rubber-first",
   "metadata": {
    "ExecuteTime": {
     "end_time": "2021-03-29T00:12:51.481725Z",
     "start_time": "2021-03-29T00:12:50.857082Z"
    }
   },
   "outputs": [
    {
     "data": {
      "text/html": [
       "<div>\n",
       "<style scoped>\n",
       "    .dataframe tbody tr th:only-of-type {\n",
       "        vertical-align: middle;\n",
       "    }\n",
       "\n",
       "    .dataframe tbody tr th {\n",
       "        vertical-align: top;\n",
       "    }\n",
       "\n",
       "    .dataframe thead th {\n",
       "        text-align: right;\n",
       "    }\n",
       "</style>\n",
       "<table border=\"1\" class=\"dataframe\">\n",
       "  <thead>\n",
       "    <tr style=\"text-align: right;\">\n",
       "      <th></th>\n",
       "      <th>Store</th>\n",
       "      <th>DayOfWeek</th>\n",
       "      <th>Date</th>\n",
       "      <th>Sales</th>\n",
       "      <th>Customers</th>\n",
       "      <th>Open</th>\n",
       "      <th>Promo</th>\n",
       "      <th>StateHoliday</th>\n",
       "      <th>SchoolHoliday</th>\n",
       "      <th>StoreType</th>\n",
       "      <th>Assortment</th>\n",
       "      <th>CompetitionDistance</th>\n",
       "      <th>CompetitionOpenSinceMonth</th>\n",
       "      <th>CompetitionOpenSinceYear</th>\n",
       "      <th>Promo2</th>\n",
       "      <th>Promo2SinceWeek</th>\n",
       "      <th>Promo2SinceYear</th>\n",
       "      <th>PromoInterval</th>\n",
       "    </tr>\n",
       "  </thead>\n",
       "  <tbody>\n",
       "    <tr>\n",
       "      <th>570269</th>\n",
       "      <td>175</td>\n",
       "      <td>3</td>\n",
       "      <td>2014-02-05</td>\n",
       "      <td>6151</td>\n",
       "      <td>683</td>\n",
       "      <td>1</td>\n",
       "      <td>1</td>\n",
       "      <td>0</td>\n",
       "      <td>0</td>\n",
       "      <td>c</td>\n",
       "      <td>a</td>\n",
       "      <td>4130.0</td>\n",
       "      <td>NaN</td>\n",
       "      <td>NaN</td>\n",
       "      <td>0</td>\n",
       "      <td>NaN</td>\n",
       "      <td>NaN</td>\n",
       "      <td>NaN</td>\n",
       "    </tr>\n",
       "  </tbody>\n",
       "</table>\n",
       "</div>"
      ],
      "text/plain": [
       "        Store  DayOfWeek        Date  Sales  Customers  Open  Promo StateHoliday  SchoolHoliday StoreType Assortment  CompetitionDistance  CompetitionOpenSinceMonth  CompetitionOpenSinceYear  Promo2  Promo2SinceWeek  Promo2SinceYear PromoInterval\n",
       "570269    175          3  2014-02-05   6151        683     1      1            0              0         c          a               4130.0                        NaN                       NaN       0              NaN              NaN           NaN"
      ]
     },
     "execution_count": 5,
     "metadata": {},
     "output_type": "execute_result"
    }
   ],
   "source": [
    "df_raw.sample()"
   ]
  },
  {
   "cell_type": "markdown",
   "id": "constant-reception",
   "metadata": {},
   "source": [
    "# 1.0. Descrição dos Dados"
   ]
  },
  {
   "cell_type": "code",
   "execution_count": 6,
   "id": "genetic-conjunction",
   "metadata": {
    "ExecuteTime": {
     "end_time": "2021-03-29T00:12:51.623642Z",
     "start_time": "2021-03-29T00:12:51.487721Z"
    }
   },
   "outputs": [],
   "source": [
    "#copy of the dataset to recover the original dataset\n",
    "df1 = df_raw.copy()"
   ]
  },
  {
   "cell_type": "markdown",
   "id": "reasonable-choir",
   "metadata": {},
   "source": [
    "## 1.1. Rename Columns\n",
    "The idea here is to get agility on development through easy names on the columns"
   ]
  },
  {
   "cell_type": "code",
   "execution_count": 7,
   "id": "interesting-ivory",
   "metadata": {
    "ExecuteTime": {
     "end_time": "2021-03-29T00:12:51.654625Z",
     "start_time": "2021-03-29T00:12:51.627640Z"
    }
   },
   "outputs": [],
   "source": [
    "cols_old = ['Store', 'DayOfWeek', 'Date', 'Sales', 'Customers', 'Open', 'Promo',\n",
    "       'StateHoliday', 'SchoolHoliday', 'StoreType', 'Assortment',\n",
    "       'CompetitionDistance', 'CompetitionOpenSinceMonth',\n",
    "       'CompetitionOpenSinceYear', 'Promo2', 'Promo2SinceWeek',\n",
    "       'Promo2SinceYear', 'PromoInterval']\n",
    "\n",
    "snakecase = lambda x: inflection.underscore(x)\n",
    "\n",
    "cols_new = list(map(snakecase, cols_old))\n",
    "\n",
    "#rename\n",
    "df1.columns = cols_new"
   ]
  },
  {
   "cell_type": "markdown",
   "id": "brown-reason",
   "metadata": {
    "ExecuteTime": {
     "end_time": "2021-03-22T00:27:04.010866Z",
     "start_time": "2021-03-22T00:27:03.996481Z"
    }
   },
   "source": [
    "## 1.2. Data Dimensions"
   ]
  },
  {
   "cell_type": "code",
   "execution_count": 8,
   "id": "indonesian-application",
   "metadata": {
    "ExecuteTime": {
     "end_time": "2021-03-29T00:12:51.669617Z",
     "start_time": "2021-03-29T00:12:51.658623Z"
    }
   },
   "outputs": [
    {
     "name": "stdout",
     "output_type": "stream",
     "text": [
      "Number of rows: 1017209\n",
      "Number of cols: 18\n"
     ]
    }
   ],
   "source": [
    "print('Number of rows: {}'.format(df1.shape[0]))\n",
    "print('Number of cols: {}'.format(df1.shape[1]))"
   ]
  },
  {
   "cell_type": "markdown",
   "id": "vanilla-creek",
   "metadata": {},
   "source": [
    "## 1.3. Data Types"
   ]
  },
  {
   "cell_type": "code",
   "execution_count": 9,
   "id": "stupid-sender",
   "metadata": {
    "ExecuteTime": {
     "end_time": "2021-03-29T00:12:52.316246Z",
     "start_time": "2021-03-29T00:12:51.677611Z"
    }
   },
   "outputs": [
    {
     "data": {
      "text/plain": [
       "store                                    int64\n",
       "day_of_week                              int64\n",
       "date                            datetime64[ns]\n",
       "sales                                    int64\n",
       "customers                                int64\n",
       "open                                     int64\n",
       "promo                                    int64\n",
       "state_holiday                           object\n",
       "school_holiday                           int64\n",
       "store_type                              object\n",
       "assortment                              object\n",
       "competition_distance                   float64\n",
       "competition_open_since_month           float64\n",
       "competition_open_since_year            float64\n",
       "promo2                                   int64\n",
       "promo2_since_week                      float64\n",
       "promo2_since_year                      float64\n",
       "promo_interval                          object\n",
       "dtype: object"
      ]
     },
     "execution_count": 9,
     "metadata": {},
     "output_type": "execute_result"
    }
   ],
   "source": [
    "df1['date'] = pd.to_datetime(df1['date'])\n",
    "df1.dtypes"
   ]
  },
  {
   "cell_type": "markdown",
   "id": "scientific-arena",
   "metadata": {},
   "source": [
    "## 1.4. Check NA"
   ]
  },
  {
   "cell_type": "code",
   "execution_count": 10,
   "id": "antique-tribe",
   "metadata": {
    "ExecuteTime": {
     "end_time": "2021-03-29T00:12:53.054823Z",
     "start_time": "2021-03-29T00:12:52.322243Z"
    }
   },
   "outputs": [
    {
     "data": {
      "text/plain": [
       "store                                0\n",
       "day_of_week                          0\n",
       "date                                 0\n",
       "sales                                0\n",
       "customers                            0\n",
       "open                                 0\n",
       "promo                                0\n",
       "state_holiday                        0\n",
       "school_holiday                       0\n",
       "store_type                           0\n",
       "assortment                           0\n",
       "competition_distance              2642\n",
       "competition_open_since_month    323348\n",
       "competition_open_since_year     323348\n",
       "promo2                               0\n",
       "promo2_since_week               508031\n",
       "promo2_since_year               508031\n",
       "promo_interval                  508031\n",
       "dtype: int64"
      ]
     },
     "execution_count": 10,
     "metadata": {},
     "output_type": "execute_result"
    }
   ],
   "source": [
    "# return how many NA's contains on each column\n",
    "df1.isna().sum() "
   ]
  },
  {
   "cell_type": "markdown",
   "id": "polish-fence",
   "metadata": {},
   "source": [
    "## 1.5. Fillout NA"
   ]
  },
  {
   "cell_type": "code",
   "execution_count": null,
   "id": "coordinated-sodium",
   "metadata": {
    "ExecuteTime": {
     "start_time": "2021-03-29T00:12:49.596Z"
    }
   },
   "outputs": [],
   "source": [
    "# competition_distance      \n",
    "# Here i'm fillin the NA's with a value that is much higher than the max value for competitor distance on the dataset\n",
    "df1['competition_distance'] = df1['competition_distance'].apply(lambda x: 200000 if math.isnan(x) else x)\n",
    "\n",
    "# competition_open_since_month\n",
    "# Here, I'm assuming that is important to have this information filled (M02_V02_9min)\n",
    "df1['competition_open_since_month'] = df1.apply(lambda x: x['date'].month if math.isnan(x['competition_open_since_month'])\n",
    "                                                                                else x['competition_open_since_month'], axis=1)\n",
    "\n",
    "# competition_open_since_year \n",
    "df1['competition_open_since_year'] = df1.apply(lambda x: x['date'].year if math.isnan(x['competition_open_since_year'])\n",
    "                                                                                else x['competition_open_since_year'], axis=1)\n",
    "                 \n",
    "# promo2_since_week      \n",
    "\n",
    "df1['promo2_since_week'] = df1.apply(lambda x: x['date'].week if math.isnan(x['promo2_since_week']) else x['promo2_since_week'], axis=1)\n",
    "\n",
    "# promo2_since_year    \n",
    "df1['promo2_since_year'] = df1.apply(lambda x: x['date'].year if math.isnan(x['promo2_since_year']) else x['promo2_since_year'], axis=1)"
   ]
  },
  {
   "cell_type": "code",
   "execution_count": null,
   "id": "dense-tribute",
   "metadata": {
    "ExecuteTime": {
     "start_time": "2021-03-29T00:12:49.782Z"
    }
   },
   "outputs": [],
   "source": [
    "month_map = {1:'Jan',2:'Feb',3:'Mar',4:'Apr',5:'May',6:'Jun',7:'Jul',8:'Aug',9:'Sep',10:'Oct',11:'Nov',12:'Dec'}\n",
    "\n",
    "# fill na's with 0 to avoid the comparison using 'isnan'\n",
    "df1['promo_interval'].fillna(0,inplace=True)\n",
    "\n",
    "# extract the month of the 'date' column and apply the dictionary created above to use as future comparison.\n",
    "df1['month_map'] = df1['date'].dt.month.map(month_map)\n",
    "\n",
    "# verifying if the store is participating in the promo, based on column 'date', represented by 'month_map'\n",
    "df1['is_promo'] = df1[['promo_interval','month_map']].apply(lambda x: 0 if x['promo_interval'] == 0 \n",
    "                                                            else 1 if x['month_map'] in x['promo_interval'].split(',')\n",
    "                                                            else 0, axis=1)"
   ]
  },
  {
   "cell_type": "code",
   "execution_count": null,
   "id": "verified-creature",
   "metadata": {
    "ExecuteTime": {
     "start_time": "2021-03-29T00:12:49.967Z"
    }
   },
   "outputs": [],
   "source": [
    "# observer that we don't have any columns with NA anymore\n",
    "df1.isna().sum()"
   ]
  },
  {
   "cell_type": "markdown",
   "id": "actual-geneva",
   "metadata": {},
   "source": [
    "## 1.6. Change Types\n",
    "It's important to verify if the types are correct after many modifications on the variables"
   ]
  },
  {
   "cell_type": "code",
   "execution_count": null,
   "id": "parallel-string",
   "metadata": {
    "ExecuteTime": {
     "start_time": "2021-03-29T00:12:50.335Z"
    }
   },
   "outputs": [],
   "source": [
    "# These variables were float64.\n",
    "df1['competition_open_since_month'] = df1['competition_open_since_month'].astype('int64')\n",
    "df1['competition_open_since_year'] = df1['competition_open_since_year'].astype('int64')\n",
    "df1['promo2_since_week'] = df1['promo2_since_week'].astype('int64')\n",
    "df1['promo2_since_year'] = df1['promo2_since_year'].astype('int64')"
   ]
  },
  {
   "cell_type": "markdown",
   "id": "solar-arbitration",
   "metadata": {
    "ExecuteTime": {
     "end_time": "2021-03-24T02:57:22.951497Z",
     "start_time": "2021-03-24T02:57:22.935498Z"
    }
   },
   "source": [
    "## 1.7. Descriptive Statistics\n",
    "This topic is important to:\n",
    "- Understand more from the business\n",
    "- Identify errors"
   ]
  },
  {
   "cell_type": "code",
   "execution_count": null,
   "id": "beneficial-upgrade",
   "metadata": {
    "ExecuteTime": {
     "start_time": "2021-03-29T00:12:50.697Z"
    }
   },
   "outputs": [],
   "source": [
    "#allocating the numerical columns on a new variable\n",
    "num_attributes = df1.select_dtypes(include = ['int64','float64'])\n",
    "\n",
    "# allocating the categorical columns on a new variable\n",
    "cat_attributes = df1.select_dtypes(exclude = ['int64','float64','datetime64[ns]'])"
   ]
  },
  {
   "cell_type": "markdown",
   "id": "working-sport",
   "metadata": {},
   "source": [
    "### 1.7.1. Numerical Attributes"
   ]
  },
  {
   "cell_type": "code",
   "execution_count": null,
   "id": "ahead-yacht",
   "metadata": {
    "ExecuteTime": {
     "start_time": "2021-03-29T00:12:51.075Z"
    }
   },
   "outputs": [],
   "source": [
    "# Central Tendency - Mean, Median\n",
    "ct1 = pd.DataFrame(num_attributes.apply(np.mean) ).T # mean\n",
    "ct2 = pd.DataFrame(num_attributes.apply(np.median) ).T # median\n",
    "\n",
    "# Dispersion - std, min, max, skew, kurtosis\n",
    "d1 = pd.DataFrame(num_attributes.apply(np.std) ).T # standard deviation\n",
    "d2 = pd.DataFrame(num_attributes.apply(min) ).T # min\n",
    "d3 = pd.DataFrame(num_attributes.apply(max) ).T # max\n",
    "d4 = pd.DataFrame(num_attributes.apply(lambda x: x.max() - x.min()) ).T # range\n",
    "d5 = pd.DataFrame(num_attributes.apply(lambda x: x.skew() )).T # skew\n",
    "d6 = pd.DataFrame(num_attributes.apply(lambda x: x.kurtosis() )).T # kurtosis\n",
    "\n",
    "# concatenate\n",
    "m = pd.concat([d2,d3,d4,ct1,ct2,d1,d5,d6]).T.reset_index()\n",
    "m.columns = ['Attributes', 'Min', 'Max', 'Range', 'Mean', 'Median', 'Std', 'Skew', 'Kurtosis']\n",
    "\n",
    "m"
   ]
  },
  {
   "cell_type": "code",
   "execution_count": null,
   "id": "sized-qualification",
   "metadata": {
    "ExecuteTime": {
     "start_time": "2021-03-29T00:12:51.267Z"
    }
   },
   "outputs": [],
   "source": [
    "sns.distplot(df1['competition_distance'])"
   ]
  },
  {
   "cell_type": "markdown",
   "id": "weekly-breathing",
   "metadata": {},
   "source": [
    "### 1.7.2. Categorical Attributes"
   ]
  },
  {
   "cell_type": "code",
   "execution_count": null,
   "id": "varied-tattoo",
   "metadata": {
    "ExecuteTime": {
     "start_time": "2021-03-29T00:12:51.574Z"
    }
   },
   "outputs": [],
   "source": [
    "# Visualize how many attributes each column has\n",
    "cat_attributes.apply(lambda x: x.unique().shape[0])"
   ]
  },
  {
   "cell_type": "code",
   "execution_count": null,
   "id": "gorgeous-spice",
   "metadata": {
    "ExecuteTime": {
     "start_time": "2021-03-29T00:12:51.765Z"
    }
   },
   "outputs": [],
   "source": [
    "aux1 = df1[(df1['state_holiday'] != '0') & (df1['sales']>0)]\n",
    "plt.subplot(1,3,1)\n",
    "sns.boxplot(x='state_holiday' ,y='sales', data=aux1 )\n",
    "\n",
    "plt.subplot(1,3,2)\n",
    "sns.boxplot(x='store_type' ,y='sales', data=aux1 )\n",
    "\n",
    "plt.subplot(1,3,3)\n",
    "sns.boxplot(x='assortment' ,y='sales', data=aux1 )"
   ]
  },
  {
   "cell_type": "markdown",
   "id": "agricultural-philosophy",
   "metadata": {},
   "source": [
    "# 2.0. Feature Engineering"
   ]
  },
  {
   "cell_type": "markdown",
   "id": "iraqi-craps",
   "metadata": {},
   "source": [
    "## 2.1. Mind Map Hypothesis"
   ]
  },
  {
   "cell_type": "code",
   "execution_count": null,
   "id": "radio-screw",
   "metadata": {
    "ExecuteTime": {
     "start_time": "2021-03-29T00:12:52.439Z"
    }
   },
   "outputs": [],
   "source": [
    "df2 = df1.copy()"
   ]
  },
  {
   "cell_type": "code",
   "execution_count": null,
   "id": "sporting-animation",
   "metadata": {
    "ExecuteTime": {
     "start_time": "2021-03-29T00:12:52.649Z"
    }
   },
   "outputs": [],
   "source": [
    "Image('img/MindMapRossman2.png')"
   ]
  },
  {
   "cell_type": "markdown",
   "id": "statistical-pakistan",
   "metadata": {
    "ExecuteTime": {
     "end_time": "2021-03-25T02:19:46.575099Z",
     "start_time": "2021-03-25T02:19:46.569103Z"
    }
   },
   "source": [
    "## 2.2. Hypothesis Creation"
   ]
  },
  {
   "cell_type": "markdown",
   "id": "established-pattern",
   "metadata": {},
   "source": [
    "### 2.2.1. Hipóteses da Loja"
   ]
  },
  {
   "cell_type": "markdown",
   "id": "protective-update",
   "metadata": {},
   "source": [
    "**1.** Lojas com maior quadro de funcionários deveriam vender mais.\n",
    "\n",
    "**2.** Lojas com maior capacidade de estoque deveriam vender mais.\n",
    "\n",
    "**3.** Lojas com maior porte deveriam vender mais.\n",
    "\n",
    "**4.** Lojas com competidores mais próximos deveriam vender menos\n",
    "\n",
    "**5.** Lojas com maior sortimento deveriam vender mais.\n",
    "\n",
    "**6.** Lojas com competidores à mais tempo deveriam vender mais"
   ]
  },
  {
   "cell_type": "markdown",
   "id": "departmental-jurisdiction",
   "metadata": {},
   "source": [
    "#### 2.2.2. Hipóteses do Produto"
   ]
  },
  {
   "cell_type": "markdown",
   "id": "brutal-tissue",
   "metadata": {},
   "source": [
    "**1.** Lojas que investem mais em marketing deveriam vender mais.\n",
    "\n",
    "**2.** Lojas que expõe mais o produto nas vitrines deveriam vender mais.\n",
    "\n",
    "**3.** Lojas que tem preços menores deveriam vender mais.\n",
    "\n",
    "**4.** Lojas com promoções ativas por mais tempo deveriam vender mais.\n",
    "\n",
    "**5.** Lojas com mais dias de promoção deveriam vender mais.\n",
    "\n",
    "**6.** Lojas com promoções mais agressivas deveriam vender mais.\n",
    "\n",
    "**7.** Lojas com mais promoções consecutivas deveriam vender mais.\n",
    "\n",
    "**8.** Lojas com promoções mais agressivas (maiores descontos) deveriam vender mais"
   ]
  },
  {
   "cell_type": "markdown",
   "id": "center-factory",
   "metadata": {
    "ExecuteTime": {
     "end_time": "2021-03-25T02:20:48.108775Z",
     "start_time": "2021-03-25T02:20:48.102778Z"
    }
   },
   "source": [
    "### 2.2.3. Hipóteses do tempo"
   ]
  },
  {
   "cell_type": "markdown",
   "id": "single-disposal",
   "metadata": {},
   "source": [
    "**1.** Lojas deveriam vender mais no segundo semestre do ano\n",
    "\n",
    "**2.** Lojas deveriam vender menos aos finais de semana.\n",
    "\n",
    "**3.**Lojas abertas durante o feriado de Natal deveriam vender mais.\n",
    "\n",
    "**4.**Lojas deveriam vender mais ao longo dos anos\n",
    "\n",
    "**5.**Lojas deveriam vender mais depois do dia 10 de cada mês\n",
    "\n",
    "**6.**Lojas deveriam vender menos durante feriados escolares."
   ]
  },
  {
   "cell_type": "markdown",
   "id": "pleased-individual",
   "metadata": {},
   "source": [
    "## 2.3. lista Final de Hipóteses\n",
    "Etapa de priorização de hipóteses. A ideia aqui é simples: Priorizar as hipóteses que já possuem os dados à disposição e tratados."
   ]
  },
  {
   "cell_type": "markdown",
   "id": "incredible-effects",
   "metadata": {
    "ExecuteTime": {
     "end_time": "2021-03-26T02:56:37.719372Z",
     "start_time": "2021-03-26T02:56:37.641048Z"
    }
   },
   "source": [
    "**5.** Lojas com maior sortimento deveriam vender mais.\n",
    "\n",
    "**4.** Lojas com competidores mais próximos deveriam vender menos\n",
    "\n",
    "**6.** Lojas com competidores à mais tempo deveriam vender mais"
   ]
  },
  {
   "cell_type": "markdown",
   "id": "later-heather",
   "metadata": {
    "ExecuteTime": {
     "end_time": "2021-03-26T02:57:35.854477Z",
     "start_time": "2021-03-26T02:57:35.831489Z"
    }
   },
   "source": [
    "**4.** Lojas com promoções ativas por mais tempo deveriam vender mais.\n",
    "\n",
    "**5.** Lojas com mais dias de promoção deveriam vender mais.\n",
    "\n",
    "**7.** Lojas com mais promoções consecutivas deveriam vender mais."
   ]
  },
  {
   "cell_type": "markdown",
   "id": "rotary-finger",
   "metadata": {},
   "source": [
    "**1.** Lojas deveriam vender mais no segundo semestre do ano\n",
    "\n",
    "**2.** Lojas deveriam vender menos aos finais de semana.\n",
    "\n",
    "**3.** Lojas abertas durante o feriado de Natal deveriam vender mais.\n",
    "\n",
    "**4.** Lojas deveriam vender mais ao longo dos anos\n",
    "\n",
    "**5.** Lojas deveriam vender mais depois do dia 10 de cada mês\n",
    "\n",
    "**6.** Lojas deveriam vender menos durante feriados escolares."
   ]
  },
  {
   "cell_type": "markdown",
   "id": "parliamentary-quick",
   "metadata": {},
   "source": [
    "## 2.4. Feature Engineering"
   ]
  },
  {
   "cell_type": "code",
   "execution_count": null,
   "id": "medieval-compiler",
   "metadata": {
    "ExecuteTime": {
     "start_time": "2021-03-29T00:12:55.255Z"
    },
    "code_folding": []
   },
   "outputs": [],
   "source": [
    "# year\n",
    "df2['year'] = df2['date'].dt.year\n",
    "\n",
    "# month\n",
    "df2['month'] = df2['date'].dt.month\n",
    "\n",
    "# day\n",
    "df2['day'] = df2['date'].dt.day\n",
    "\n",
    "# week of year\n",
    "df2['week_of_year'] = df2['date'].dt.isocalendar().week\n",
    "\n",
    "# year week\n",
    "df2['year_week'] = df2['date'].dt.strftime('%Y-%W')"
   ]
  },
  {
   "cell_type": "code",
   "execution_count": null,
   "id": "embedded-pledge",
   "metadata": {
    "ExecuteTime": {
     "start_time": "2021-03-29T00:12:55.436Z"
    }
   },
   "outputs": [],
   "source": [
    "# competition since\n",
    "# gather 'competition_open_since_year' and 'competition_open_since_month' together and then\n",
    "# subtracting it to 'date' so we can obtain how many months have passed for each store since\n",
    "# competitions opened\n",
    "df2['competition_since'] = df2.apply(lambda x: datetime.datetime(year=x['competition_open_since_year'],\n",
    "                  month=x['competition_open_since_month'],\n",
    "                 day=1), axis=1)\n",
    "\n",
    "# dividing by 30 so we can obtain the result as months\n",
    "df2['competition_time_month'] = ( (df2['date'] - df2['competition_since'])/30 ).apply(lambda x: x.days).astype(int)"
   ]
  },
  {
   "cell_type": "code",
   "execution_count": null,
   "id": "ranking-college",
   "metadata": {
    "ExecuteTime": {
     "start_time": "2021-03-29T00:12:55.605Z"
    }
   },
   "outputs": [],
   "source": [
    "# promo since\n",
    "df2['promo_since'] = df2['promo2_since_year'].astype(str) + '-' + df2['promo2_since_week'].astype(str)\n",
    "\n",
    "# now we have to convert the 'promo_since' to datetime. This method is explained\n",
    "# on the bonus video, that is not launched at the moment (26/03) \n",
    "df2['promo_since'] = df2['promo_since'].apply(lambda x: datetime.datetime.strptime(x + '-1', '%Y-%W-%w' ) - datetime.timedelta(days = 7) )\n",
    "df2['promo_time_week'] = ( (df2['date'] - df2['promo_since'] )/7 ).apply(lambda x: x.days ).astype(int)"
   ]
  },
  {
   "cell_type": "code",
   "execution_count": null,
   "id": "intellectual-printer",
   "metadata": {
    "ExecuteTime": {
     "start_time": "2021-03-29T00:12:55.841Z"
    }
   },
   "outputs": [],
   "source": [
    "# assortment\n",
    "df2['assortment'] = df2['assortment'].apply(lambda x: 'basic' if x == 'a' else 'extra' if x == 'b'\n",
    "                                          else 'extended')\n",
    "\n",
    "# state holiday\n",
    "df2['state_holiday'] = df2['state_holiday'].apply(lambda x: 'public_holiday' if x == 'a' else 'easter_holiday' if x == 'b' \n",
    "      else 'christimas' if x == 'c' else 'regular_day')"
   ]
  },
  {
   "cell_type": "code",
   "execution_count": null,
   "id": "waiting-corner",
   "metadata": {
    "ExecuteTime": {
     "start_time": "2021-03-29T00:12:56.010Z"
    }
   },
   "outputs": [],
   "source": [
    "df2.head().T"
   ]
  },
  {
   "cell_type": "markdown",
   "id": "alpine-citizenship",
   "metadata": {
    "ExecuteTime": {
     "end_time": "2021-03-28T23:42:08.434309Z",
     "start_time": "2021-03-28T23:42:08.286544Z"
    }
   },
   "source": [
    "# 3.0. Filtragem de Variáveis"
   ]
  },
  {
   "cell_type": "code",
   "execution_count": null,
   "id": "reverse-metro",
   "metadata": {
    "ExecuteTime": {
     "start_time": "2021-03-29T00:12:56.343Z"
    }
   },
   "outputs": [],
   "source": [
    "df3 = df2.copy()"
   ]
  },
  {
   "cell_type": "code",
   "execution_count": null,
   "id": "polish-winner",
   "metadata": {
    "ExecuteTime": {
     "start_time": "2021-03-29T00:12:56.534Z"
    }
   },
   "outputs": [],
   "source": [
    "df3.head()"
   ]
  },
  {
   "cell_type": "markdown",
   "id": "crude-outreach",
   "metadata": {
    "ExecuteTime": {
     "end_time": "2021-03-28T23:58:50.754813Z",
     "start_time": "2021-03-28T23:58:50.742821Z"
    }
   },
   "source": [
    "## 3.1. Filtragem das Linhas"
   ]
  },
  {
   "cell_type": "code",
   "execution_count": null,
   "id": "innovative-hardware",
   "metadata": {
    "ExecuteTime": {
     "start_time": "2021-03-29T00:12:56.926Z"
    }
   },
   "outputs": [],
   "source": [
    "# stores open only\n",
    "df3 = df3[(df3['open'] != 0) & (df3['sales'] > 0)]"
   ]
  },
  {
   "cell_type": "markdown",
   "id": "corporate-stream",
   "metadata": {},
   "source": [
    "## 3.2. Seleção das colunas"
   ]
  },
  {
   "cell_type": "code",
   "execution_count": null,
   "id": "unlike-tragedy",
   "metadata": {
    "ExecuteTime": {
     "start_time": "2021-03-29T00:12:57.294Z"
    }
   },
   "outputs": [],
   "source": [
    "#'customers' é uma restrição do negócio, pois não teremos o input no momento da análise de quantas pessoas\n",
    "# estarão nas lojas nas próximas 6 semanas\n",
    "# a coluna 'open' não será mais necessária pois estará preenchida totalmente apenas com o valor '1'\n",
    "# 'promo_interval' e 'month_map' são variáveis auxiliares, e não mais necessárias\n",
    "cols_drop = ['customers','open','promo_interval','month_map']\n",
    "df3 = df3.drop(cols_drop, axis=1)"
   ]
  },
  {
   "cell_type": "code",
   "execution_count": null,
   "id": "mounted-pacific",
   "metadata": {},
   "outputs": [],
   "source": []
  },
  {
   "cell_type": "code",
   "execution_count": null,
   "id": "stopped-wagner",
   "metadata": {},
   "outputs": [],
   "source": []
  },
  {
   "cell_type": "code",
   "execution_count": null,
   "id": "documented-trading",
   "metadata": {},
   "outputs": [],
   "source": []
  },
  {
   "cell_type": "code",
   "execution_count": null,
   "id": "associate-spoke",
   "metadata": {},
   "outputs": [],
   "source": []
  },
  {
   "cell_type": "code",
   "execution_count": null,
   "id": "medium-jurisdiction",
   "metadata": {},
   "outputs": [],
   "source": []
  },
  {
   "cell_type": "code",
   "execution_count": null,
   "id": "thousand-tunisia",
   "metadata": {},
   "outputs": [],
   "source": []
  },
  {
   "cell_type": "code",
   "execution_count": null,
   "id": "bridal-permit",
   "metadata": {},
   "outputs": [],
   "source": []
  }
 ],
 "metadata": {
  "kernelspec": {
   "display_name": "Python 3",
   "language": "python",
   "name": "python3"
  },
  "language_info": {
   "codemirror_mode": {
    "name": "ipython",
    "version": 3
   },
   "file_extension": ".py",
   "mimetype": "text/x-python",
   "name": "python",
   "nbconvert_exporter": "python",
   "pygments_lexer": "ipython3",
   "version": "3.9.2"
  }
 },
 "nbformat": 4,
 "nbformat_minor": 5
}
